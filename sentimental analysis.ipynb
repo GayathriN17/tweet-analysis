{
 "cells": [
  {
   "cell_type": "markdown",
   "metadata": {},
   "source": [
    "# IMPORTING NECESSARY LIBRARIES\n"
   ]
  },
  {
   "cell_type": "code",
   "execution_count": 58,
   "metadata": {},
   "outputs": [],
   "source": [
    "import re\n",
    "import numpy as np\n",
    "import pandas as pd\n",
    "# plotting\n",
    "import seaborn as sns\n",
    "import matplotlib.pyplot as plt\n",
    "# nltk\n",
    "from nltk.stem import WordNetLemmatizer\n",
    "from nltk.stem import WordNetLemmatizer\n",
    "from nltk.tokenize import word_tokenize\n",
    "# sklearn\n",
    "from sklearn.svm import LinearSVC\n",
    "from sklearn.naive_bayes import BernoulliNB\n",
    "from sklearn.linear_model import LogisticRegression\n",
    "from sklearn.model_selection import train_test_split\n",
    "from sklearn.feature_extraction.text import TfidfVectorizer\n",
    "from sklearn.metrics import confusion_matrix, classification_report"
   ]
  },
  {
   "cell_type": "markdown",
   "metadata": {},
   "source": [
    "# READ AND LOAD DATASET"
   ]
  },
  {
   "cell_type": "code",
   "execution_count": 2,
   "metadata": {},
   "outputs": [
    {
     "data": {
      "text/html": [
       "<div>\n",
       "<style scoped>\n",
       "    .dataframe tbody tr th:only-of-type {\n",
       "        vertical-align: middle;\n",
       "    }\n",
       "\n",
       "    .dataframe tbody tr th {\n",
       "        vertical-align: top;\n",
       "    }\n",
       "\n",
       "    .dataframe thead th {\n",
       "        text-align: right;\n",
       "    }\n",
       "</style>\n",
       "<table border=\"1\" class=\"dataframe\">\n",
       "  <thead>\n",
       "    <tr style=\"text-align: right;\">\n",
       "      <th></th>\n",
       "      <th>UserName</th>\n",
       "      <th>ScreenName</th>\n",
       "      <th>Location</th>\n",
       "      <th>TweetAt</th>\n",
       "      <th>OriginalTweet</th>\n",
       "      <th>Sentiment</th>\n",
       "    </tr>\n",
       "  </thead>\n",
       "  <tbody>\n",
       "    <tr>\n",
       "      <th>0</th>\n",
       "      <td>1</td>\n",
       "      <td>44954</td>\n",
       "      <td>Seattle, WA</td>\n",
       "      <td>02-03-2020</td>\n",
       "      <td>When I couldn't find hand sanitizer at Fred Me...</td>\n",
       "      <td>Positive</td>\n",
       "    </tr>\n",
       "    <tr>\n",
       "      <th>1</th>\n",
       "      <td>2</td>\n",
       "      <td>44956</td>\n",
       "      <td>Chicagoland</td>\n",
       "      <td>02-03-2020</td>\n",
       "      <td>#Panic buying hits #NewYork City as anxious sh...</td>\n",
       "      <td>Negative</td>\n",
       "    </tr>\n",
       "    <tr>\n",
       "      <th>2</th>\n",
       "      <td>3</td>\n",
       "      <td>44959</td>\n",
       "      <td>NaN</td>\n",
       "      <td>03-03-2020</td>\n",
       "      <td>Voting in the age of #coronavirus = hand sanit...</td>\n",
       "      <td>Positive</td>\n",
       "    </tr>\n",
       "    <tr>\n",
       "      <th>3</th>\n",
       "      <td>4</td>\n",
       "      <td>44963</td>\n",
       "      <td>Boksburg, South Africa</td>\n",
       "      <td>04-03-2020</td>\n",
       "      <td>Best quality couches at unbelievably low price...</td>\n",
       "      <td>Positive</td>\n",
       "    </tr>\n",
       "    <tr>\n",
       "      <th>4</th>\n",
       "      <td>5</td>\n",
       "      <td>44967</td>\n",
       "      <td>Washington, DC</td>\n",
       "      <td>04-03-2020</td>\n",
       "      <td>While we were busy watching election returns a...</td>\n",
       "      <td>Positive</td>\n",
       "    </tr>\n",
       "    <tr>\n",
       "      <th>5</th>\n",
       "      <td>6</td>\n",
       "      <td>44971</td>\n",
       "      <td>NaN</td>\n",
       "      <td>05-03-2020</td>\n",
       "      <td>That's about a week from now. A bit optimistic...</td>\n",
       "      <td>Positive</td>\n",
       "    </tr>\n",
       "    <tr>\n",
       "      <th>6</th>\n",
       "      <td>7</td>\n",
       "      <td>44973</td>\n",
       "      <td>Malta</td>\n",
       "      <td>05-03-2020</td>\n",
       "      <td>#CoronaVirus #COVID_19 People are starting to ...</td>\n",
       "      <td>Negative</td>\n",
       "    </tr>\n",
       "    <tr>\n",
       "      <th>7</th>\n",
       "      <td>8</td>\n",
       "      <td>44978</td>\n",
       "      <td>Wayne County, MI</td>\n",
       "      <td>07-03-2020</td>\n",
       "      <td>Alright yall I hope our Melanin prevails but ...</td>\n",
       "      <td>Positive</td>\n",
       "    </tr>\n",
       "    <tr>\n",
       "      <th>8</th>\n",
       "      <td>9</td>\n",
       "      <td>44979</td>\n",
       "      <td>Bondi Beach, Sydney</td>\n",
       "      <td>07-03-2020</td>\n",
       "      <td>When your usual grocery shopping @woolworths t...</td>\n",
       "      <td>Negative</td>\n",
       "    </tr>\n",
       "    <tr>\n",
       "      <th>9</th>\n",
       "      <td>10</td>\n",
       "      <td>44980</td>\n",
       "      <td>NaN</td>\n",
       "      <td>07-03-2020</td>\n",
       "      <td>Coronavirus panic spreads: Costco is pulling f...</td>\n",
       "      <td>Negative</td>\n",
       "    </tr>\n",
       "    <tr>\n",
       "      <th>10</th>\n",
       "      <td>11</td>\n",
       "      <td>44981</td>\n",
       "      <td>NaN</td>\n",
       "      <td>07-03-2020</td>\n",
       "      <td>While you are stocking up, waiting for quarant...</td>\n",
       "      <td>Negative</td>\n",
       "    </tr>\n",
       "    <tr>\n",
       "      <th>11</th>\n",
       "      <td>12</td>\n",
       "      <td>44982</td>\n",
       "      <td>United States</td>\n",
       "      <td>07-03-2020</td>\n",
       "      <td>#Coronavirus is \"an exposure of all the holes ...</td>\n",
       "      <td>Positive</td>\n",
       "    </tr>\n",
       "    <tr>\n",
       "      <th>12</th>\n",
       "      <td>13</td>\n",
       "      <td>44983</td>\n",
       "      <td>New York, New York</td>\n",
       "      <td>07-03-2020</td>\n",
       "      <td>Two important phone numbers NYers should know....</td>\n",
       "      <td>Negative</td>\n",
       "    </tr>\n",
       "    <tr>\n",
       "      <th>13</th>\n",
       "      <td>14</td>\n",
       "      <td>44989</td>\n",
       "      <td>New York, NY</td>\n",
       "      <td>08-03-2020</td>\n",
       "      <td>Fellow Uni instructors! COVID-19 f2f class can...</td>\n",
       "      <td>Negative</td>\n",
       "    </tr>\n",
       "    <tr>\n",
       "      <th>14</th>\n",
       "      <td>15</td>\n",
       "      <td>44991</td>\n",
       "      <td>Sydney, New South Wales</td>\n",
       "      <td>08-03-2020</td>\n",
       "      <td>1/25 Part 1 - Why does soap work so well on th...</td>\n",
       "      <td>Negative</td>\n",
       "    </tr>\n",
       "    <tr>\n",
       "      <th>15</th>\n",
       "      <td>16</td>\n",
       "      <td>44993</td>\n",
       "      <td>Michigan, USA</td>\n",
       "      <td>09-03-2020</td>\n",
       "      <td>For those thinking #seniors #disabled &amp;amp; #v...</td>\n",
       "      <td>Positive</td>\n",
       "    </tr>\n",
       "    <tr>\n",
       "      <th>16</th>\n",
       "      <td>17</td>\n",
       "      <td>44994</td>\n",
       "      <td>Pennsylvania</td>\n",
       "      <td>09-03-2020</td>\n",
       "      <td>So far 36 Pennsylvanians have reached out to m...</td>\n",
       "      <td>Negative</td>\n",
       "    </tr>\n",
       "    <tr>\n",
       "      <th>17</th>\n",
       "      <td>18</td>\n",
       "      <td>44996</td>\n",
       "      <td>Washington, D.C.</td>\n",
       "      <td>09-03-2020</td>\n",
       "      <td>Scammers are taking advantage of fears surroun...</td>\n",
       "      <td>Positive</td>\n",
       "    </tr>\n",
       "    <tr>\n",
       "      <th>18</th>\n",
       "      <td>19</td>\n",
       "      <td>44997</td>\n",
       "      <td>Burnaby, British Columbia</td>\n",
       "      <td>09-03-2020</td>\n",
       "      <td>Are you doing business in international market...</td>\n",
       "      <td>Positive</td>\n",
       "    </tr>\n",
       "    <tr>\n",
       "      <th>19</th>\n",
       "      <td>20</td>\n",
       "      <td>45005</td>\n",
       "      <td>Colorado</td>\n",
       "      <td>09-03-2020</td>\n",
       "      <td>Ignore online offers for #vaccinations. There ...</td>\n",
       "      <td>Negative</td>\n",
       "    </tr>\n",
       "  </tbody>\n",
       "</table>\n",
       "</div>"
      ],
      "text/plain": [
       "    UserName  ScreenName                   Location     TweetAt  \\\n",
       "0          1       44954                Seattle, WA  02-03-2020   \n",
       "1          2       44956                Chicagoland  02-03-2020   \n",
       "2          3       44959                        NaN  03-03-2020   \n",
       "3          4       44963     Boksburg, South Africa  04-03-2020   \n",
       "4          5       44967             Washington, DC  04-03-2020   \n",
       "5          6       44971                        NaN  05-03-2020   \n",
       "6          7       44973                      Malta  05-03-2020   \n",
       "7          8       44978           Wayne County, MI  07-03-2020   \n",
       "8          9       44979        Bondi Beach, Sydney  07-03-2020   \n",
       "9         10       44980                        NaN  07-03-2020   \n",
       "10        11       44981                        NaN  07-03-2020   \n",
       "11        12       44982              United States  07-03-2020   \n",
       "12        13       44983         New York, New York  07-03-2020   \n",
       "13        14       44989               New York, NY  08-03-2020   \n",
       "14        15       44991    Sydney, New South Wales  08-03-2020   \n",
       "15        16       44993              Michigan, USA  09-03-2020   \n",
       "16        17       44994               Pennsylvania  09-03-2020   \n",
       "17        18       44996           Washington, D.C.  09-03-2020   \n",
       "18        19       44997  Burnaby, British Columbia  09-03-2020   \n",
       "19        20       45005                   Colorado  09-03-2020   \n",
       "\n",
       "                                        OriginalTweet Sentiment  \n",
       "0   When I couldn't find hand sanitizer at Fred Me...  Positive  \n",
       "1   #Panic buying hits #NewYork City as anxious sh...  Negative  \n",
       "2   Voting in the age of #coronavirus = hand sanit...  Positive  \n",
       "3   Best quality couches at unbelievably low price...  Positive  \n",
       "4   While we were busy watching election returns a...  Positive  \n",
       "5   That's about a week from now. A bit optimistic...  Positive  \n",
       "6   #CoronaVirus #COVID_19 People are starting to ...  Negative  \n",
       "7   Alright yall I hope our Melanin prevails but ...  Positive  \n",
       "8   When your usual grocery shopping @woolworths t...  Negative  \n",
       "9   Coronavirus panic spreads: Costco is pulling f...  Negative  \n",
       "10  While you are stocking up, waiting for quarant...  Negative  \n",
       "11  #Coronavirus is \"an exposure of all the holes ...  Positive  \n",
       "12  Two important phone numbers NYers should know....  Negative  \n",
       "13  Fellow Uni instructors! COVID-19 f2f class can...  Negative  \n",
       "14  1/25 Part 1 - Why does soap work so well on th...  Negative  \n",
       "15  For those thinking #seniors #disabled &amp; #v...  Positive  \n",
       "16  So far 36 Pennsylvanians have reached out to m...  Negative  \n",
       "17  Scammers are taking advantage of fears surroun...  Positive  \n",
       "18  Are you doing business in international market...  Positive  \n",
       "19  Ignore online offers for #vaccinations. There ...  Negative  "
      ]
     },
     "execution_count": 2,
     "metadata": {},
     "output_type": "execute_result"
    }
   ],
   "source": [
    "cotweets = pd.read_csv(\"C:/Users/abc/Downloads/CoronaTweetsSentimentAnalysis.csv\")\n",
    "cotweets.head(20)"
   ]
  },
  {
   "cell_type": "markdown",
   "metadata": {},
   "source": [
    "# PREPROCESSING TECHNIQUES"
   ]
  },
  {
   "cell_type": "code",
   "execution_count": 3,
   "metadata": {},
   "outputs": [
    {
     "data": {
      "text/plain": [
       "Index(['UserName', 'ScreenName', 'Location', 'TweetAt', 'OriginalTweet',\n",
       "       'Sentiment'],\n",
       "      dtype='object')"
      ]
     },
     "execution_count": 3,
     "metadata": {},
     "output_type": "execute_result"
    }
   ],
   "source": [
    "cotweets.columns"
   ]
  },
  {
   "cell_type": "code",
   "execution_count": 4,
   "metadata": {},
   "outputs": [
    {
     "data": {
      "text/plain": [
       "(1988, 6)"
      ]
     },
     "execution_count": 4,
     "metadata": {},
     "output_type": "execute_result"
    }
   ],
   "source": [
    "cotweets. shape"
   ]
  },
  {
   "cell_type": "code",
   "execution_count": 5,
   "metadata": {},
   "outputs": [
    {
     "data": {
      "text/plain": [
       "<bound method DataFrame.info of       UserName  ScreenName                Location     TweetAt  \\\n",
       "0            1       44954             Seattle, WA  02-03-2020   \n",
       "1            2       44956             Chicagoland  02-03-2020   \n",
       "2            3       44959                     NaN  03-03-2020   \n",
       "3            4       44963  Boksburg, South Africa  04-03-2020   \n",
       "4            5       44967          Washington, DC  04-03-2020   \n",
       "...        ...         ...                     ...         ...   \n",
       "1983      1984       48737       Paraparaumu Beach  16-03-2020   \n",
       "1984      1985       48743        Cincinnati, Ohio  16-03-2020   \n",
       "1985      1986       48745         Washington D.C.  16-03-2020   \n",
       "1986      1987       48746               Israel ??  16-03-2020   \n",
       "1987      1988       48747          Farmington, NM  16-03-2020   \n",
       "\n",
       "                                          OriginalTweet Sentiment  \n",
       "0     When I couldn't find hand sanitizer at Fred Me...  Positive  \n",
       "1     #Panic buying hits #NewYork City as anxious sh...  Negative  \n",
       "2     Voting in the age of #coronavirus = hand sanit...  Positive  \n",
       "3     Best quality couches at unbelievably low price...  Positive  \n",
       "4     While we were busy watching election returns a...  Positive  \n",
       "...                                                 ...       ...  \n",
       "1983  Just been through K?piti New World which is bu...  Positive  \n",
       "1984  Even though the Law Library is closed, ALL sub...  Positive  \n",
       "1985  @RicePolitics @MDCounties Craig, will you call...  Negative  \n",
       "1986  Meanwhile In A Supermarket in Israel -- People...  Positive  \n",
       "1987  Did you panic buy a lot of non-perishable item...  Negative  \n",
       "\n",
       "[1988 rows x 6 columns]>"
      ]
     },
     "execution_count": 5,
     "metadata": {},
     "output_type": "execute_result"
    }
   ],
   "source": [
    "cotweets.info"
   ]
  },
  {
   "cell_type": "code",
   "execution_count": 6,
   "metadata": {},
   "outputs": [
    {
     "data": {
      "text/plain": [
       "<bound method NDFrame.describe of       UserName  ScreenName                Location     TweetAt  \\\n",
       "0            1       44954             Seattle, WA  02-03-2020   \n",
       "1            2       44956             Chicagoland  02-03-2020   \n",
       "2            3       44959                     NaN  03-03-2020   \n",
       "3            4       44963  Boksburg, South Africa  04-03-2020   \n",
       "4            5       44967          Washington, DC  04-03-2020   \n",
       "...        ...         ...                     ...         ...   \n",
       "1983      1984       48737       Paraparaumu Beach  16-03-2020   \n",
       "1984      1985       48743        Cincinnati, Ohio  16-03-2020   \n",
       "1985      1986       48745         Washington D.C.  16-03-2020   \n",
       "1986      1987       48746               Israel ??  16-03-2020   \n",
       "1987      1988       48747          Farmington, NM  16-03-2020   \n",
       "\n",
       "                                          OriginalTweet Sentiment  \n",
       "0     When I couldn't find hand sanitizer at Fred Me...  Positive  \n",
       "1     #Panic buying hits #NewYork City as anxious sh...  Negative  \n",
       "2     Voting in the age of #coronavirus = hand sanit...  Positive  \n",
       "3     Best quality couches at unbelievably low price...  Positive  \n",
       "4     While we were busy watching election returns a...  Positive  \n",
       "...                                                 ...       ...  \n",
       "1983  Just been through K?piti New World which is bu...  Positive  \n",
       "1984  Even though the Law Library is closed, ALL sub...  Positive  \n",
       "1985  @RicePolitics @MDCounties Craig, will you call...  Negative  \n",
       "1986  Meanwhile In A Supermarket in Israel -- People...  Positive  \n",
       "1987  Did you panic buy a lot of non-perishable item...  Negative  \n",
       "\n",
       "[1988 rows x 6 columns]>"
      ]
     },
     "execution_count": 6,
     "metadata": {},
     "output_type": "execute_result"
    }
   ],
   "source": [
    "cotweets.describe"
   ]
  },
  {
   "cell_type": "code",
   "execution_count": 8,
   "metadata": {},
   "outputs": [
    {
     "data": {
      "text/plain": [
       "United States           42\n",
       "London, England         25\n",
       "Washington, DC          22\n",
       "New York, NY            20\n",
       "Los Angeles, CA         16\n",
       "                        ..\n",
       "Tulalip, WA              1\n",
       "Ayr, Scotland            1\n",
       "Melbourne, Australia     1\n",
       "Gilbert, AZ              1\n",
       "Lake Wildwood, CA        1\n",
       "Name: Location, Length: 1019, dtype: int64"
      ]
     },
     "execution_count": 8,
     "metadata": {},
     "output_type": "execute_result"
    }
   ],
   "source": [
    "cotweets['Location'].value_counts()"
   ]
  },
  {
   "cell_type": "code",
   "execution_count": 9,
   "metadata": {},
   "outputs": [
    {
     "data": {
      "text/plain": [
       "0"
      ]
     },
     "execution_count": 9,
     "metadata": {},
     "output_type": "execute_result"
    }
   ],
   "source": [
    "cotweets.duplicated(subset='ScreenName').sum() # Check for duplicate values\n"
   ]
  },
  {
   "cell_type": "code",
   "execution_count": 10,
   "metadata": {},
   "outputs": [
    {
     "data": {
      "text/plain": [
       "UserName          int64\n",
       "ScreenName        int64\n",
       "Location         object\n",
       "TweetAt          object\n",
       "OriginalTweet    object\n",
       "Sentiment        object\n",
       "dtype: object"
      ]
     },
     "execution_count": 10,
     "metadata": {},
     "output_type": "execute_result"
    }
   ],
   "source": [
    "cotweets.dtypes"
   ]
  },
  {
   "cell_type": "code",
   "execution_count": 9,
   "metadata": {},
   "outputs": [
    {
     "name": "stdout",
     "output_type": "stream",
     "text": [
      "\n",
      "AFTER DROPPING UNWANTED COLUMNS FROM THE DATASET :\n"
     ]
    },
    {
     "data": {
      "text/html": [
       "<div>\n",
       "<style scoped>\n",
       "    .dataframe tbody tr th:only-of-type {\n",
       "        vertical-align: middle;\n",
       "    }\n",
       "\n",
       "    .dataframe tbody tr th {\n",
       "        vertical-align: top;\n",
       "    }\n",
       "\n",
       "    .dataframe thead th {\n",
       "        text-align: right;\n",
       "    }\n",
       "</style>\n",
       "<table border=\"1\" class=\"dataframe\">\n",
       "  <thead>\n",
       "    <tr style=\"text-align: right;\">\n",
       "      <th></th>\n",
       "      <th>ScreenName</th>\n",
       "      <th>Location</th>\n",
       "      <th>OriginalTweet</th>\n",
       "      <th>Sentiment</th>\n",
       "    </tr>\n",
       "  </thead>\n",
       "  <tbody>\n",
       "    <tr>\n",
       "      <th>0</th>\n",
       "      <td>44954</td>\n",
       "      <td>Seattle, WA</td>\n",
       "      <td>When I couldn't find hand sanitizer at Fred Me...</td>\n",
       "      <td>Positive</td>\n",
       "    </tr>\n",
       "    <tr>\n",
       "      <th>1</th>\n",
       "      <td>44956</td>\n",
       "      <td>Chicagoland</td>\n",
       "      <td>#Panic buying hits #NewYork City as anxious sh...</td>\n",
       "      <td>Negative</td>\n",
       "    </tr>\n",
       "    <tr>\n",
       "      <th>2</th>\n",
       "      <td>44959</td>\n",
       "      <td>NaN</td>\n",
       "      <td>Voting in the age of #coronavirus = hand sanit...</td>\n",
       "      <td>Positive</td>\n",
       "    </tr>\n",
       "    <tr>\n",
       "      <th>3</th>\n",
       "      <td>44963</td>\n",
       "      <td>Boksburg, South Africa</td>\n",
       "      <td>Best quality couches at unbelievably low price...</td>\n",
       "      <td>Positive</td>\n",
       "    </tr>\n",
       "    <tr>\n",
       "      <th>4</th>\n",
       "      <td>44967</td>\n",
       "      <td>Washington, DC</td>\n",
       "      <td>While we were busy watching election returns a...</td>\n",
       "      <td>Positive</td>\n",
       "    </tr>\n",
       "  </tbody>\n",
       "</table>\n",
       "</div>"
      ],
      "text/plain": [
       "   ScreenName                Location  \\\n",
       "0       44954             Seattle, WA   \n",
       "1       44956             Chicagoland   \n",
       "2       44959                     NaN   \n",
       "3       44963  Boksburg, South Africa   \n",
       "4       44967          Washington, DC   \n",
       "\n",
       "                                       OriginalTweet Sentiment  \n",
       "0  When I couldn't find hand sanitizer at Fred Me...  Positive  \n",
       "1  #Panic buying hits #NewYork City as anxious sh...  Negative  \n",
       "2  Voting in the age of #coronavirus = hand sanit...  Positive  \n",
       "3  Best quality couches at unbelievably low price...  Positive  \n",
       "4  While we were busy watching election returns a...  Positive  "
      ]
     },
     "execution_count": 9,
     "metadata": {},
     "output_type": "execute_result"
    }
   ],
   "source": [
    "#dropping unwanted columns\n",
    "to_drop = ['TweetAt','UserName']\n",
    "cotweets.drop(to_drop, inplace=True, axis=1)\n",
    "print(\"\\nAFTER DROPPING UNWANTED COLUMNS FROM THE DATASET :\")\n",
    "cotweets.head()"
   ]
  },
  {
   "cell_type": "code",
   "execution_count": 13,
   "metadata": {},
   "outputs": [
    {
     "name": "stdout",
     "output_type": "stream",
     "text": [
      "\n",
      "MISSING VALUES IN EACH COLUMN :\n",
      "UserName           0\n",
      "ScreenName         0\n",
      "Location         452\n",
      "OriginalTweet      0\n",
      "Sentiment          0\n",
      "dtype: int64\n"
     ]
    }
   ],
   "source": [
    "#missing values percent per column\n",
    "print(\"\\nMISSING VALUES IN EACH COLUMN :\")\n",
    "print(cotweets.isnull().sum())"
   ]
  },
  {
   "cell_type": "code",
   "execution_count": 14,
   "metadata": {},
   "outputs": [
    {
     "name": "stdout",
     "output_type": "stream",
     "text": [
      "\n",
      "AFTER REPLACING THE MISSING COLUMNS INTO A SINGLE CATEGORY :\n",
      "UserName           0\n",
      "ScreenName         0\n",
      "Location         452\n",
      "OriginalTweet      0\n",
      "Sentiment          0\n",
      "dtype: int64\n"
     ]
    }
   ],
   "source": [
    "#ensuring there is no missing values\n",
    "print(\"\\nAFTER REPLACING THE MISSING COLUMNS INTO A SINGLE CATEGORY :\")\n",
    "print(cotweets.isnull().sum())"
   ]
  },
  {
   "cell_type": "code",
   "execution_count": 15,
   "metadata": {},
   "outputs": [
    {
     "data": {
      "text/plain": [
       "452"
      ]
     },
     "execution_count": 15,
     "metadata": {},
     "output_type": "execute_result"
    }
   ],
   "source": [
    "np.sum(cotweets.isnull().any(axis=1))"
   ]
  },
  {
   "cell_type": "code",
   "execution_count": 17,
   "metadata": {},
   "outputs": [],
   "source": [
    "cotweets = cotweets.fillna(\" \")"
   ]
  },
  {
   "cell_type": "code",
   "execution_count": 18,
   "metadata": {},
   "outputs": [
    {
     "data": {
      "text/plain": [
       "0"
      ]
     },
     "execution_count": 18,
     "metadata": {},
     "output_type": "execute_result"
    }
   ],
   "source": [
    "np.sum(cotweets.isnull().any(axis=1))"
   ]
  },
  {
   "cell_type": "code",
   "execution_count": 52,
   "metadata": {},
   "outputs": [
    {
     "data": {
      "text/plain": [
       "array([44954, 44956, 44959, ..., 48745, 48746, 48747], dtype=int64)"
      ]
     },
     "execution_count": 52,
     "metadata": {},
     "output_type": "execute_result"
    }
   ],
   "source": [
    "cotweets['ScreenName'].unique()"
   ]
  },
  {
   "cell_type": "code",
   "execution_count": 53,
   "metadata": {},
   "outputs": [
    {
     "data": {
      "text/plain": [
       "ScreenName    False\n",
       "Sentiment     False\n",
       "dtype: bool"
      ]
     },
     "execution_count": 53,
     "metadata": {},
     "output_type": "execute_result"
    }
   ],
   "source": [
    "cotweets.isna().any() # Check for \"NaN\" values again\n"
   ]
  },
  {
   "cell_type": "code",
   "execution_count": 45,
   "metadata": {},
   "outputs": [
    {
     "data": {
      "text/html": [
       "<div>\n",
       "<style scoped>\n",
       "    .dataframe tbody tr th:only-of-type {\n",
       "        vertical-align: middle;\n",
       "    }\n",
       "\n",
       "    .dataframe tbody tr th {\n",
       "        vertical-align: top;\n",
       "    }\n",
       "\n",
       "    .dataframe thead th {\n",
       "        text-align: right;\n",
       "    }\n",
       "</style>\n",
       "<table border=\"1\" class=\"dataframe\">\n",
       "  <thead>\n",
       "    <tr style=\"text-align: right;\">\n",
       "      <th></th>\n",
       "      <th>OriginalTweet</th>\n",
       "      <th>Sentiment</th>\n",
       "    </tr>\n",
       "  </thead>\n",
       "  <tbody>\n",
       "    <tr>\n",
       "      <th>0</th>\n",
       "      <td>when i couldnt find hand sanitizer at fred mey...</td>\n",
       "      <td>Positive</td>\n",
       "    </tr>\n",
       "    <tr>\n",
       "      <th>1</th>\n",
       "      <td>panic buying hits newyork city as anxious shop...</td>\n",
       "      <td>Negative</td>\n",
       "    </tr>\n",
       "    <tr>\n",
       "      <th>2</th>\n",
       "      <td>voting in the age of coronavirus  hand sanitiz...</td>\n",
       "      <td>Positive</td>\n",
       "    </tr>\n",
       "    <tr>\n",
       "      <th>3</th>\n",
       "      <td>best quality couches at unbelievably low price...</td>\n",
       "      <td>Positive</td>\n",
       "    </tr>\n",
       "    <tr>\n",
       "      <th>4</th>\n",
       "      <td>while we were busy watching election returns a...</td>\n",
       "      <td>Positive</td>\n",
       "    </tr>\n",
       "    <tr>\n",
       "      <th>...</th>\n",
       "      <td>...</td>\n",
       "      <td>...</td>\n",
       "    </tr>\n",
       "    <tr>\n",
       "      <th>1983</th>\n",
       "      <td>just been through kpiti new world which is bus...</td>\n",
       "      <td>Positive</td>\n",
       "    </tr>\n",
       "    <tr>\n",
       "      <th>1984</th>\n",
       "      <td>even though the law library is closed all subs...</td>\n",
       "      <td>Positive</td>\n",
       "    </tr>\n",
       "    <tr>\n",
       "      <th>1985</th>\n",
       "      <td>ricepolitics mdcounties craig will you call on...</td>\n",
       "      <td>Negative</td>\n",
       "    </tr>\n",
       "    <tr>\n",
       "      <th>1986</th>\n",
       "      <td>meanwhile in a supermarket in israel  people d...</td>\n",
       "      <td>Positive</td>\n",
       "    </tr>\n",
       "    <tr>\n",
       "      <th>1987</th>\n",
       "      <td>did you panic buy a lot of nonperishable items...</td>\n",
       "      <td>Negative</td>\n",
       "    </tr>\n",
       "  </tbody>\n",
       "</table>\n",
       "<p>1988 rows × 2 columns</p>\n",
       "</div>"
      ],
      "text/plain": [
       "                                          OriginalTweet Sentiment\n",
       "0     when i couldnt find hand sanitizer at fred mey...  Positive\n",
       "1     panic buying hits newyork city as anxious shop...  Negative\n",
       "2     voting in the age of coronavirus  hand sanitiz...  Positive\n",
       "3     best quality couches at unbelievably low price...  Positive\n",
       "4     while we were busy watching election returns a...  Positive\n",
       "...                                                 ...       ...\n",
       "1983  just been through kpiti new world which is bus...  Positive\n",
       "1984  even though the law library is closed all subs...  Positive\n",
       "1985  ricepolitics mdcounties craig will you call on...  Negative\n",
       "1986  meanwhile in a supermarket in israel  people d...  Positive\n",
       "1987  did you panic buy a lot of nonperishable items...  Negative\n",
       "\n",
       "[1988 rows x 2 columns]"
      ]
     },
     "execution_count": 45,
     "metadata": {},
     "output_type": "execute_result"
    }
   ],
   "source": [
    "cotweets=cotweets.dropna()\n",
    "cotweets"
   ]
  },
  {
   "cell_type": "code",
   "execution_count": 46,
   "metadata": {},
   "outputs": [
    {
     "data": {
      "text/html": [
       "<div>\n",
       "<style scoped>\n",
       "    .dataframe tbody tr th:only-of-type {\n",
       "        vertical-align: middle;\n",
       "    }\n",
       "\n",
       "    .dataframe tbody tr th {\n",
       "        vertical-align: top;\n",
       "    }\n",
       "\n",
       "    .dataframe thead th {\n",
       "        text-align: right;\n",
       "    }\n",
       "</style>\n",
       "<table border=\"1\" class=\"dataframe\">\n",
       "  <thead>\n",
       "    <tr style=\"text-align: right;\">\n",
       "      <th></th>\n",
       "      <th>OriginalTweet</th>\n",
       "      <th>Sentiment</th>\n",
       "    </tr>\n",
       "  </thead>\n",
       "  <tbody>\n",
       "    <tr>\n",
       "      <th>0</th>\n",
       "      <td>when i couldnt find hand sanitizer at fred mey...</td>\n",
       "      <td>Positive</td>\n",
       "    </tr>\n",
       "    <tr>\n",
       "      <th>1</th>\n",
       "      <td>panic buying hits newyork city as anxious shop...</td>\n",
       "      <td>Negative</td>\n",
       "    </tr>\n",
       "    <tr>\n",
       "      <th>2</th>\n",
       "      <td>voting in the age of coronavirus  hand sanitiz...</td>\n",
       "      <td>Positive</td>\n",
       "    </tr>\n",
       "    <tr>\n",
       "      <th>3</th>\n",
       "      <td>best quality couches at unbelievably low price...</td>\n",
       "      <td>Positive</td>\n",
       "    </tr>\n",
       "    <tr>\n",
       "      <th>4</th>\n",
       "      <td>while we were busy watching election returns a...</td>\n",
       "      <td>Positive</td>\n",
       "    </tr>\n",
       "  </tbody>\n",
       "</table>\n",
       "</div>"
      ],
      "text/plain": [
       "                                       OriginalTweet Sentiment\n",
       "0  when i couldnt find hand sanitizer at fred mey...  Positive\n",
       "1  panic buying hits newyork city as anxious shop...  Negative\n",
       "2  voting in the age of coronavirus  hand sanitiz...  Positive\n",
       "3  best quality couches at unbelievably low price...  Positive\n",
       "4  while we were busy watching election returns a...  Positive"
      ]
     },
     "execution_count": 46,
     "metadata": {},
     "output_type": "execute_result"
    }
   ],
   "source": [
    "#removing the punctuations \n",
    "import string\n",
    "\n",
    "def punctuation_removal(OriginalTweet):\n",
    "    all_list = [char for char in OriginalTweet if char not in string.punctuation]\n",
    "    clean_str = ''.join(all_list)\n",
    "    return clean_str\n",
    "\n",
    "cotweets['OriginalTweet'] = cotweets['OriginalTweet'].apply(punctuation_removal)\n",
    "cotweets.head()"
   ]
  },
  {
   "cell_type": "code",
   "execution_count": 47,
   "metadata": {},
   "outputs": [
    {
     "data": {
      "text/html": [
       "<div>\n",
       "<style scoped>\n",
       "    .dataframe tbody tr th:only-of-type {\n",
       "        vertical-align: middle;\n",
       "    }\n",
       "\n",
       "    .dataframe tbody tr th {\n",
       "        vertical-align: top;\n",
       "    }\n",
       "\n",
       "    .dataframe thead th {\n",
       "        text-align: right;\n",
       "    }\n",
       "</style>\n",
       "<table border=\"1\" class=\"dataframe\">\n",
       "  <thead>\n",
       "    <tr style=\"text-align: right;\">\n",
       "      <th></th>\n",
       "      <th>OriginalTweet</th>\n",
       "      <th>Sentiment</th>\n",
       "    </tr>\n",
       "  </thead>\n",
       "  <tbody>\n",
       "    <tr>\n",
       "      <th>0</th>\n",
       "      <td>when i couldnt find hand sanitizer at fred mey...</td>\n",
       "      <td>Positive</td>\n",
       "    </tr>\n",
       "    <tr>\n",
       "      <th>1</th>\n",
       "      <td>panic buying hits newyork city as anxious shop...</td>\n",
       "      <td>Negative</td>\n",
       "    </tr>\n",
       "    <tr>\n",
       "      <th>2</th>\n",
       "      <td>voting in the age of coronavirus  hand sanitiz...</td>\n",
       "      <td>Positive</td>\n",
       "    </tr>\n",
       "    <tr>\n",
       "      <th>3</th>\n",
       "      <td>best quality couches at unbelievably low price...</td>\n",
       "      <td>Positive</td>\n",
       "    </tr>\n",
       "    <tr>\n",
       "      <th>4</th>\n",
       "      <td>while we were busy watching election returns a...</td>\n",
       "      <td>Positive</td>\n",
       "    </tr>\n",
       "  </tbody>\n",
       "</table>\n",
       "</div>"
      ],
      "text/plain": [
       "                                       OriginalTweet Sentiment\n",
       "0  when i couldnt find hand sanitizer at fred mey...  Positive\n",
       "1  panic buying hits newyork city as anxious shop...  Negative\n",
       "2  voting in the age of coronavirus  hand sanitiz...  Positive\n",
       "3  best quality couches at unbelievably low price...  Positive\n",
       "4  while we were busy watching election returns a...  Positive"
      ]
     },
     "execution_count": 47,
     "metadata": {},
     "output_type": "execute_result"
    }
   ],
   "source": [
    "#converting into lowercase\n",
    "def convert_lowercase(sent):\n",
    "    sent=sent.lower()\n",
    "    return sent\n",
    "cotweets['OriginalTweet']=cotweets['OriginalTweet'].apply(convert_lowercase)\n",
    "cotweets.head()"
   ]
  },
  {
   "cell_type": "code",
   "execution_count": 49,
   "metadata": {},
   "outputs": [
    {
     "name": "stdout",
     "output_type": "stream",
     "text": [
      "                                          OriginalTweet Sentiment\n",
      "0     when i couldnt find hand sanitizer at fred mey...  Positive\n",
      "1     panic buying hits newyork city as anxious shop...  Negative\n",
      "2     voting in the age of coronavirus  hand sanitiz...  Positive\n",
      "3     best quality couches at unbelievably low price...  Positive\n",
      "4     while we were busy watching election returns a...  Positive\n",
      "...                                                 ...       ...\n",
      "1983  just been through kpiti new world which is bus...  Positive\n",
      "1984  even though the law library is closed all subs...  Positive\n",
      "1985  ricepolitics mdcounties craig will you call on...  Negative\n",
      "1986  meanwhile in a supermarket in israel  people d...  Positive\n",
      "1987  did you panic buy a lot of nonperishable items...  Negative\n",
      "\n",
      "[1988 rows x 2 columns]\n",
      "                                          OriginalTweet Sentiment\n",
      "0     when i couldnt find hand sanitizer at fred mey...  Positive\n",
      "1     panic buying hits newyork city as anxious shop...  Negative\n",
      "2     voting in the age of coronavirus  hand sanitiz...  Positive\n",
      "3     best quality couches at unbelievably low price...  Positive\n",
      "4     while we were busy watching election returns a...  Positive\n",
      "...                                                 ...       ...\n",
      "1983  just been through kpiti new world which is bus...  Positive\n",
      "1984  even though the law library is closed all subs...  Positive\n",
      "1985  ricepolitics mdcounties craig will you call on...  Negative\n",
      "1986  meanwhile in a supermarket in israel  people d...  Positive\n",
      "1987  did you panic buy a lot of nonperishable items...  Negative\n",
      "\n",
      "[1988 rows x 2 columns]\n"
     ]
    }
   ],
   "source": [
    "#Replacing the links into ''\n",
    "for m in cotweets:\n",
    "    url = m[0]\n",
    "    cotweets = cotweets.replace(url, '')\n",
    "    print(cotweets)"
   ]
  },
  {
   "cell_type": "code",
   "execution_count": 50,
   "metadata": {},
   "outputs": [
    {
     "name": "stdout",
     "output_type": "stream",
     "text": [
      "(1988, 2)\n"
     ]
    },
    {
     "data": {
      "text/html": [
       "<div>\n",
       "<style scoped>\n",
       "    .dataframe tbody tr th:only-of-type {\n",
       "        vertical-align: middle;\n",
       "    }\n",
       "\n",
       "    .dataframe tbody tr th {\n",
       "        vertical-align: top;\n",
       "    }\n",
       "\n",
       "    .dataframe thead th {\n",
       "        text-align: right;\n",
       "    }\n",
       "</style>\n",
       "<table border=\"1\" class=\"dataframe\">\n",
       "  <thead>\n",
       "    <tr style=\"text-align: right;\">\n",
       "      <th></th>\n",
       "      <th>OriginalTweet</th>\n",
       "      <th>Sentiment</th>\n",
       "    </tr>\n",
       "  </thead>\n",
       "  <tbody>\n",
       "    <tr>\n",
       "      <th>0</th>\n",
       "      <td>when i couldnt find hand sanitizer at fred mey...</td>\n",
       "      <td>Positive</td>\n",
       "    </tr>\n",
       "    <tr>\n",
       "      <th>1</th>\n",
       "      <td>panic buying hits newyork city as anxious shop...</td>\n",
       "      <td>Negative</td>\n",
       "    </tr>\n",
       "    <tr>\n",
       "      <th>2</th>\n",
       "      <td>voting in the age of coronavirus  hand sanitiz...</td>\n",
       "      <td>Positive</td>\n",
       "    </tr>\n",
       "    <tr>\n",
       "      <th>3</th>\n",
       "      <td>best quality couches at unbelievably low price...</td>\n",
       "      <td>Positive</td>\n",
       "    </tr>\n",
       "    <tr>\n",
       "      <th>4</th>\n",
       "      <td>while we were busy watching election returns a...</td>\n",
       "      <td>Positive</td>\n",
       "    </tr>\n",
       "    <tr>\n",
       "      <th>5</th>\n",
       "      <td>thats about a week from now a bit optimistic  ...</td>\n",
       "      <td>Positive</td>\n",
       "    </tr>\n",
       "    <tr>\n",
       "      <th>6</th>\n",
       "      <td>coronavirus covid19 people are starting to bec...</td>\n",
       "      <td>Negative</td>\n",
       "    </tr>\n",
       "    <tr>\n",
       "      <th>7</th>\n",
       "      <td>alright yall i hope our melanin prevails but ...</td>\n",
       "      <td>Positive</td>\n",
       "    </tr>\n",
       "    <tr>\n",
       "      <th>8</th>\n",
       "      <td>when your usual grocery shopping woolworths tu...</td>\n",
       "      <td>Negative</td>\n",
       "    </tr>\n",
       "  </tbody>\n",
       "</table>\n",
       "</div>"
      ],
      "text/plain": [
       "                                       OriginalTweet Sentiment\n",
       "0  when i couldnt find hand sanitizer at fred mey...  Positive\n",
       "1  panic buying hits newyork city as anxious shop...  Negative\n",
       "2  voting in the age of coronavirus  hand sanitiz...  Positive\n",
       "3  best quality couches at unbelievably low price...  Positive\n",
       "4  while we were busy watching election returns a...  Positive\n",
       "5  thats about a week from now a bit optimistic  ...  Positive\n",
       "6  coronavirus covid19 people are starting to bec...  Negative\n",
       "7  alright yall i hope our melanin prevails but ...  Positive\n",
       "8  when your usual grocery shopping woolworths tu...  Negative"
      ]
     },
     "execution_count": 50,
     "metadata": {},
     "output_type": "execute_result"
    }
   ],
   "source": [
    "cotweets = cotweets[['OriginalTweet','Sentiment']]\n",
    "\n",
    "print(cotweets.shape)\n",
    "cotweets.head(9)"
   ]
  },
  {
   "cell_type": "code",
   "execution_count": 51,
   "metadata": {},
   "outputs": [],
   "source": [
    "data=cotweets[['Sentiment','OriginalTweet']]"
   ]
  },
  {
   "cell_type": "code",
   "execution_count": 52,
   "metadata": {},
   "outputs": [
    {
     "name": "stderr",
     "output_type": "stream",
     "text": [
      "C:\\Users\\abc\\anaconda3\\lib\\site-packages\\ipykernel_launcher.py:1: SettingWithCopyWarning: \n",
      "A value is trying to be set on a copy of a slice from a DataFrame.\n",
      "Try using .loc[row_indexer,col_indexer] = value instead\n",
      "\n",
      "See the caveats in the documentation: https://pandas.pydata.org/pandas-docs/stable/user_guide/indexing.html#returning-a-view-versus-a-copy\n",
      "  \"\"\"Entry point for launching an IPython kernel.\n"
     ]
    }
   ],
   "source": [
    "data['ScreenName'] = data['OriginalTweet'].replace(4,1)"
   ]
  },
  {
   "cell_type": "code",
   "execution_count": 53,
   "metadata": {},
   "outputs": [
    {
     "data": {
      "text/plain": [
       "array(['when i couldnt find hand sanitizer at fred meyer i turned to amazon but 11497 for a 2 pack of purellcheck out how  coronavirus concerns are driving up prices httpstcoygbipbflmy',\n",
       "       'panic buying hits newyork city as anxious shoppers stock up on foodampmedical supplies after healthcare worker in her 30s becomes bigapple 1st confirmed coronavirus patient or a bloomberg staged event\\r\\r\\n\\r\\r\\nhttpstcoiasiregpc4\\r\\r\\n\\r\\r\\nqanon qanon2018 qanon2020 \\r\\r\\nelection2020 cdc httpstco29iszoewxu',\n",
       "       'voting in the age of coronavirus  hand sanitizer  supertuesday httpstcoz0bel4o6dk',\n",
       "       ...,\n",
       "       'ricepolitics mdcounties craig will you call on the general assembly to enact a legal stay against debt collection activities now that thousands of marylanders are without a paycheck \\r\\r\\n\\r\\r\\nhttpstco6jkuoojxvn',\n",
       "       'meanwhile in a supermarket in israel  people dance and sing together to stay positive  coronavirus httpstcovllqgi3r16',\n",
       "       'did you panic buy a lot of nonperishable items echo needs food donations it is also looking for volunteers to pack boxes volunteers will be screened to be sure they dont have covid19 httpstcotst4vjhbu4'],\n",
       "      dtype=object)"
      ]
     },
     "execution_count": 53,
     "metadata": {},
     "output_type": "execute_result"
    }
   ],
   "source": [
    "data['OriginalTweet'].unique()"
   ]
  },
  {
   "cell_type": "markdown",
   "metadata": {},
   "source": [
    "# CORRELATION MATRIX"
   ]
  },
  {
   "cell_type": "code",
   "execution_count": 21,
   "metadata": {},
   "outputs": [
    {
     "name": "stdout",
     "output_type": "stream",
     "text": [
      "\n",
      "THE CORRELATION MATRIX :\n",
      "            UserName  ScreenName\n",
      "UserName    1.000000    0.999843\n",
      "ScreenName  0.999843    1.000000\n",
      "\n",
      "THE CORRELATION HEATMAP :\n"
     ]
    },
    {
     "data": {
      "text/plain": [
       "<matplotlib.axes._subplots.AxesSubplot at 0x289bdf03248>"
      ]
     },
     "execution_count": 21,
     "metadata": {},
     "output_type": "execute_result"
    },
    {
     "data": {
      "image/png": "[encoded data removed]",
      "text/plain": [
       "<Figure size 432x288 with 2 Axes>"
      ]
     },
     "metadata": {
      "needs_background": "light"
     },
     "output_type": "display_data"
    }
   ],
   "source": [
    "#the correlation matrix\n",
    "print(\"\\nTHE CORRELATION MATRIX :\")\n",
    "print(cotweets_df.corr())\n",
    "print(\"\\nTHE CORRELATION HEATMAP :\")\n",
    "sns.heatmap(cotweets_df.corr(),cmap=\"PuBu\",annot=True)"
   ]
  },
  {
   "cell_type": "markdown",
   "metadata": {},
   "source": [
    "# DATA VISUALIZATION"
   ]
  },
  {
   "cell_type": "code",
   "execution_count": 24,
   "metadata": {},
   "outputs": [
    {
     "data": {
      "text/plain": [
       "<matplotlib.axes._subplots.AxesSubplot at 0x1cdae158208>"
      ]
     },
     "execution_count": 24,
     "metadata": {},
     "output_type": "execute_result"
    },
    {
     "data": {
      "image/png": "[encoded data removed]",
      "text/plain": [
       "<Figure size 432x288 with 1 Axes>"
      ]
     },
     "metadata": {},
     "output_type": "display_data"
    }
   ],
   "source": [
    "import seaborn as sns\n",
    "sns.countplot(x='Sentiment', data=cotweets)"
   ]
  },
  {
   "cell_type": "code",
   "execution_count": 23,
   "metadata": {},
   "outputs": [
    {
     "data": {
      "image/png": "[encoded data removed]",
      "text/plain": [
       "<Figure size 576x432 with 1 Axes>"
      ]
     },
     "metadata": {},
     "output_type": "display_data"
    }
   ],
   "source": [
    "plt.style.use('seaborn-whitegrid')\n",
    "plt.figure(figsize=(8,6))\n",
    "col = ['blue', 'black']\n",
    "ax = sns.countplot(x=\"Sentiment\", data=cotweets, palette = col)"
   ]
  },
  {
   "cell_type": "code",
   "execution_count": 34,
   "metadata": {},
   "outputs": [
    {
     "data": {
      "image/png": "[encoded data removed]",
      "text/plain": [
       "<Figure size 864x864 with 6 Axes>"
      ]
     },
     "metadata": {},
     "output_type": "display_data"
    }
   ],
   "source": [
    "## taking TOP 5 Location for better Visulaization of tweet sentiments\n",
    "location= ['United States','London, England','Washington, DC','New York, NY','Los Angeles, CA','Michigan, USA']\n",
    "plt.figure(1,figsize=(12, 12))\n",
    "for i in location:\n",
    "    indices= location.index(i)\n",
    "    plt.subplot(2,3,indices+1)\n",
    "    new_df=cotweets[cotweets['Location']==i]\n",
    "    count=new_df['Sentiment'].value_counts()\n",
    "    Index = [1,2]\n",
    "    plt.bar(Index,count, color=['blue', 'black'])\n",
    "    plt.xticks(Index,['negative','positive'])\n",
    "    plt.ylabel('Mood Count')\n",
    "    plt.xlabel('Mood')\n",
    "    plt.title('Count of Moods of '+i)"
   ]
  },
  {
   "cell_type": "markdown",
   "metadata": {},
   "source": [
    "# Splitting our data into Train and Test Subset"
   ]
  },
  {
   "cell_type": "code",
   "execution_count": 66,
   "metadata": {},
   "outputs": [],
   "source": [
    "X=cotweets['OriginalTweet']\n",
    "y=cotweets['Sentiment']\n",
    "# Separating the 95% data for training data and 5% for testing data\n",
    "X_train, X_test, y_train, y_test = train_test_split(X,y,test_size = 0.05, random_state =26105111)\n"
   ]
  },
  {
   "cell_type": "markdown",
   "metadata": {},
   "source": [
    "# TF-IDF Vectorizer"
   ]
  },
  {
   "cell_type": "code",
   "execution_count": 68,
   "metadata": {},
   "outputs": [
    {
     "name": "stdout",
     "output_type": "stream",
     "text": [
      "No. of feature_words:  45896\n"
     ]
    }
   ],
   "source": [
    "vectoriser = TfidfVectorizer(ngram_range=(1,2), max_features=500000)\n",
    "vectoriser.fit(X_train)\n",
    "print('No. of feature_words: ', len(vectoriser.get_feature_names()))"
   ]
  },
  {
   "cell_type": "code",
   "execution_count": 69,
   "metadata": {},
   "outputs": [],
   "source": [
    "X_train = vectoriser.transform(X_train)\n",
    "X_test  = vectoriser.transform(X_test)\n"
   ]
  },
  {
   "cell_type": "markdown",
   "metadata": {},
   "source": [
    "# MODEL EVALUATION"
   ]
  },
  {
   "cell_type": "code",
   "execution_count": 107,
   "metadata": {},
   "outputs": [],
   "source": [
    "def model_Evaluate(model):\n",
    "    y_pred = model.predict(X_test)\n",
    "    print(classification_report(y_test, y_pred))\n",
    "    cf_matrix = confusion_matrix(y_test, y_pred)\n",
    "    categories = ['Negative','Positive']\n",
    "    group_names = ['True Neg','False Pos', 'False Neg','True Pos']\n",
    "    group_percentages = ['{0:.2%}'.format(value) for value in cf_matrix.flatten() / np.sum(cf_matrix)]\n",
    "    labels = [f'{v1}n{v2}' for v1, v2 in zip(group_names,group_percentages)]\n",
    "    labels = np.asarray(labels).reshape(2,2)\n",
    "    sns.heatmap(cf_matrix, annot = labels, cmap = 'BrBG',fmt = '',\n",
    "    xticklabels = categories, yticklabels = categories)\n",
    "    plt.xlabel(\"Predicted values\", fontdict = {'size':10}, labelpad = 8)\n",
    "    plt.ylabel(\"Actual values\" , fontdict = {'size':10}, labelpad = 10)\n",
    "    plt.title (\"Confusion Matrix\", fontdict = {'size':14}, pad = 18)"
   ]
  },
  {
   "cell_type": "code",
   "execution_count": 112,
   "metadata": {},
   "outputs": [
    {
     "name": "stdout",
     "output_type": "stream",
     "text": [
      "              precision    recall  f1-score   support\n",
      "\n",
      "    Negative       0.64      0.90      0.75        59\n",
      "    Positive       0.65      0.27      0.38        41\n",
      "\n",
      "    accuracy                           0.64       100\n",
      "   macro avg       0.64      0.58      0.56       100\n",
      "weighted avg       0.64      0.64      0.60       100\n",
      "\n"
     ]
    },
    {
     "data": {
      "image/png": "[encoded data removed]",
      "text/plain": [
       "<Figure size 432x288 with 2 Axes>"
      ]
     },
     "metadata": {
      "needs_background": "light"
     },
     "output_type": "display_data"
    }
   ],
   "source": [
    "#Fitting the naive bayes model\n",
    "BNBmodel = BernoulliNB()\n",
    "BNBmodel.fit(X_train, y_train)\n",
    "model_Evaluate(BNBmodel)\n",
    "y_pred1 = BNBmodel.predict(X_test)"
   ]
  },
  {
   "cell_type": "code",
   "execution_count": 109,
   "metadata": {},
   "outputs": [
    {
     "name": "stdout",
     "output_type": "stream",
     "text": [
      "              precision    recall  f1-score   support\n",
      "\n",
      "    Negative       0.72      0.69      0.71        59\n",
      "    Positive       0.58      0.61      0.60        41\n",
      "\n",
      "    accuracy                           0.66       100\n",
      "   macro avg       0.65      0.65      0.65       100\n",
      "weighted avg       0.66      0.66      0.66       100\n",
      "\n"
     ]
    },
    {
     "data": {
      "image/png": "[encoded data removed]",
      "text/plain": [
       "<Figure size 432x288 with 2 Axes>"
      ]
     },
     "metadata": {
      "needs_background": "light"
     },
     "output_type": "display_data"
    }
   ],
   "source": [
    "#fitting the support vector machine model\n",
    "SVCmodel = LinearSVC()\n",
    "SVCmodel.fit(X_train, y_train)\n",
    "model_Evaluate(SVCmodel)\n",
    "y_pred2 = SVCmodel.predict(X_test)"
   ]
  },
  {
   "cell_type": "code",
   "execution_count": 110,
   "metadata": {},
   "outputs": [
    {
     "name": "stdout",
     "output_type": "stream",
     "text": [
      "              precision    recall  f1-score   support\n",
      "\n",
      "    Negative       0.69      0.68      0.68        59\n",
      "    Positive       0.55      0.56      0.55        41\n",
      "\n",
      "    accuracy                           0.63       100\n",
      "   macro avg       0.62      0.62      0.62       100\n",
      "weighted avg       0.63      0.63      0.63       100\n",
      "\n"
     ]
    },
    {
     "data": {
      "image/png": "[encoded data removed]",
      "text/plain": [
       "<Figure size 432x288 with 2 Axes>"
      ]
     },
     "metadata": {
      "needs_background": "light"
     },
     "output_type": "display_data"
    }
   ],
   "source": [
    "#Fitting the logistic Regression model\n",
    "LRmodel = LogisticRegression(C = 2, max_iter = 1000, n_jobs=-1)\n",
    "LRmodel.fit(X_train, y_train)\n",
    "model_Evaluate(LRmodel)\n",
    "y_pred3 = LRmodel.predict(X_test)"
   ]
  },
  {
   "cell_type": "markdown",
   "metadata": {},
   "source": [
    "Summary :\n",
    "    \n",
    "    I have used confusion matrix for the classification report.\n",
    "    Then, I have fitted Naive Bayes, Support vector machine and logistic regrssion \n",
    "    Accuracy score :\n",
    "    naive bayes is 90%\n",
    "    Support vector machine is 69%\n",
    "    Logistic Regression is 68%\n",
    "    \n",
    "    I conclude that the naive bayes is the bestest model for the given dataset"
   ]
  }
 ],
 "metadata": {
  "kernelspec": {
   "display_name": "Python 3",
   "language": "python",
   "name": "python3"
  },
  "language_info": {
   "codemirror_mode": {
    "name": "ipython",
    "version": 3
   },
   "file_extension": ".py",
   "mimetype": "text/x-python",
   "name": "python",
   "nbconvert_exporter": "python",
   "pygments_lexer": "ipython3",
   "version": "3.7.6"
  }
 },
 "nbformat": 4,
 "nbformat_minor": 4
}
